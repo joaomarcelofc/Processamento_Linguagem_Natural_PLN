{
 "cells": [
  {
   "cell_type": "markdown",
   "id": "22ff91c9",
   "metadata": {},
   "source": [
    "# Processamento de Linguagem Natural\n",
    "\n",
    "# Introdução ao Framework PyTorch"
   ]
  },
  {
   "cell_type": "code",
   "execution_count": 1,
   "id": "f91151f2",
   "metadata": {},
   "outputs": [
    {
     "name": "stdout",
     "output_type": "stream",
     "text": [
      "Versão da Linguagem Python Usada Neste Jupyter Notebook: 3.9.13\n"
     ]
    }
   ],
   "source": [
    "# Versão da Linguagem Python\n",
    "from platform import python_version\n",
    "print('Versão da Linguagem Python Usada Neste Jupyter Notebook:', python_version())"
   ]
  },
  {
   "cell_type": "markdown",
   "id": "a52a641b",
   "metadata": {},
   "source": [
    "A computação em modelos de Deep Learning é feita com tensores, que são generalizações de uma matriz que pode ser indexada em mais de duas dimensões. O PyTorch é um framework que aplica operações matemáticas a tensores para então treinar modelos de Deep Learning."
   ]
  },
  {
   "cell_type": "markdown",
   "id": "ec711479",
   "metadata": {},
   "source": [
    "https://pytorch.org/"
   ]
  },
  {
   "cell_type": "markdown",
   "id": "c9d478b3",
   "metadata": {},
   "source": [
    "**TorchScript**\n",
    "\n",
    "O PyTorch TorchScript ajuda a criar modelos serializáveis e otimizáveis. Depois que treinamos esses modelos, eles também podem ser executados independentemente. Isso ajuda quando estamos no estágio de implantação do modelo de um projeto de Data Science.\n",
    "\n",
    "Você pode treinar um modelo no PyTorch usando Python e depois exportá-lo via TorchScript para um ambiente de produção em que Python não esteja disponível. \n",
    "\n",
    "**Treinamento Distribuído**\n",
    "\n",
    "O PyTorch também oferece suporte a treinamento distribuído que permite que pesquisadores e profissionais paralelizem seus cálculos. O treinamento distribuído possibilita o uso de várias GPUs para processar lotes maiores de dados de entrada. Isso, por sua vez, reduz o tempo de computação.\n",
    "\n",
    "**Suporte para Python**\n",
    "\n",
    "O PyTorch tem uma interação muito boa com o Python. De fato, a codificação no PyTorch é bastante semelhante ao que fazemos em Python. Portanto, se você se sentir confortável com o Python, vai adorar trabalhar com o PyTorch."
   ]
  },
  {
   "cell_type": "markdown",
   "id": "19423df0",
   "metadata": {},
   "source": [
    "### O Que São Tensores?\n",
    "\n",
    "![title](imagens/tensores.png)"
   ]
  },
  {
   "cell_type": "code",
   "execution_count": 2,
   "id": "08643f2a",
   "metadata": {},
   "outputs": [],
   "source": [
    "# Installs\n",
    "!pip install -q -U watermark\n",
    "!pip install -q -U torch torchvision"
   ]
  },
  {
   "cell_type": "code",
   "execution_count": 3,
   "id": "b0cb410e",
   "metadata": {},
   "outputs": [],
   "source": [
    "# Imports\n",
    "import numpy as np\n",
    "import torch\n",
    "import torchvision"
   ]
  },
  {
   "cell_type": "code",
   "execution_count": 4,
   "id": "f03b9e5d",
   "metadata": {},
   "outputs": [
    {
     "name": "stdout",
     "output_type": "stream",
     "text": [
      "Author: Data Science Academy\n",
      "\n",
      "torch      : 2.2.1\n",
      "torchvision: 0.17.1\n",
      "numpy      : 1.21.5\n",
      "\n"
     ]
    }
   ],
   "source": [
    "# Versões dos pacotes usados neste jupyter notebook\n",
    "%reload_ext watermark\n",
    "%watermark -a \"Data Science Academy\" --iversions"
   ]
  },
  {
   "cell_type": "markdown",
   "id": "33cec54b",
   "metadata": {},
   "source": [
    "### Criando e Manipulando Tensores"
   ]
  },
  {
   "cell_type": "markdown",
   "id": "ae1957c4",
   "metadata": {},
   "source": [
    "A razão pela qual usamos o Numpy em Machine Learning é que é muito mais rápido do que as listas Python na execução de operações de matriz. \n",
    "\n",
    "Por quê? Internamente, NumPy faz a maior parte do trabalho pesado em Linguagem C, que é muito mais veloz que Python. \n",
    "\n",
    "Mas, no caso de treinar redes neurais profundas (<a href=\"http://www.deeplearningbook.com.br/\">Deep Learning</a>), os arrays NumPy levariam meses para treinar algumas das redes de ponta. É aqui que os tensores entram em cena. O PyTorch nos fornece uma estrutura de dados chamada Tensor, que é muito semelhante à matriz ND do NumPy. Mas, diferentemente do último, os tensores podem aproveitar os recursos de uma GPU para acelerar significativamente as operações com matrizes."
   ]
  },
  {
   "cell_type": "code",
   "execution_count": 5,
   "id": "afcf359e",
   "metadata": {},
   "outputs": [],
   "source": [
    "# Criando um tensor\n",
    "x = torch.tensor([1., 2.])"
   ]
  },
  {
   "cell_type": "code",
   "execution_count": 6,
   "id": "0e3b4d77",
   "metadata": {},
   "outputs": [
    {
     "name": "stdout",
     "output_type": "stream",
     "text": [
      "tensor([1., 2.])\n"
     ]
    }
   ],
   "source": [
    "# Visualizando o tensor\n",
    "print(x)"
   ]
  },
  {
   "cell_type": "code",
   "execution_count": 7,
   "id": "ca97ccb6",
   "metadata": {},
   "outputs": [
    {
     "name": "stdout",
     "output_type": "stream",
     "text": [
      "torch.Size([2])\n"
     ]
    }
   ],
   "source": [
    "# Shape\n",
    "print(x.shape)"
   ]
  },
  {
   "cell_type": "code",
   "execution_count": 8,
   "id": "f3ac8a94",
   "metadata": {},
   "outputs": [],
   "source": [
    "# Criando um tensor\n",
    "t = torch.tensor([[1,1,1,1],\n",
    "                  [2,2,2,2],\n",
    "                  [3,3,3,3]], dtype = torch.float32)"
   ]
  },
  {
   "cell_type": "markdown",
   "id": "eb63432b",
   "metadata": {},
   "source": [
    "Para determinar a forma desse tensor, examinamos primeiro as linhas (3) e depois as colunas (4). Portanto, esse tensor é 3 x 4 de classificação (rank) 2. \n",
    "\n",
    "Rank é uma palavra comumente usada e significa apenas o número de dimensões presentes no tensor.\n",
    "\n",
    "No PyTorch, temos duas maneiras de obter a forma (shape):"
   ]
  },
  {
   "cell_type": "code",
   "execution_count": 9,
   "id": "3e53c5f0",
   "metadata": {},
   "outputs": [
    {
     "data": {
      "text/plain": [
       "torch.Size([3, 4])"
      ]
     },
     "execution_count": 9,
     "metadata": {},
     "output_type": "execute_result"
    }
   ],
   "source": [
    "t.size()"
   ]
  },
  {
   "cell_type": "code",
   "execution_count": 11,
   "id": "d29c9db9",
   "metadata": {},
   "outputs": [
    {
     "data": {
      "text/plain": [
       "torch.Size([3, 4])"
      ]
     },
     "execution_count": 11,
     "metadata": {},
     "output_type": "execute_result"
    }
   ],
   "source": [
    "t.shape"
   ]
  },
  {
   "cell_type": "markdown",
   "id": "5bd7cc86",
   "metadata": {},
   "source": [
    "No PyTorch, o tamanho e a forma de um tensor significam a mesma coisa.\n",
    "\n",
    "Normalmente, depois de conhecermos a forma de um tensor, podemos deduzir algumas coisas. Primeiro, podemos deduzir o rank do tensor. O rank de um tensor é igual ao comprimento da forma do tensor."
   ]
  },
  {
   "cell_type": "code",
   "execution_count": 12,
   "id": "0ab4aa7e",
   "metadata": {},
   "outputs": [
    {
     "data": {
      "text/plain": [
       "2"
      ]
     },
     "execution_count": 12,
     "metadata": {},
     "output_type": "execute_result"
    }
   ],
   "source": [
    "len(t.shape)"
   ]
  },
  {
   "cell_type": "code",
   "execution_count": 13,
   "id": "c60c877a",
   "metadata": {},
   "outputs": [
    {
     "data": {
      "text/plain": [
       "1"
      ]
     },
     "execution_count": 13,
     "metadata": {},
     "output_type": "execute_result"
    }
   ],
   "source": [
    "len(x.shape)"
   ]
  },
  {
   "cell_type": "markdown",
   "id": "a20ccad4",
   "metadata": {},
   "source": [
    "Também podemos deduzir o número de elementos contidos no tensor. O número de elementos dentro de um tensor (12 no nosso caso do tensor t e 2 no tensor x) é igual ao produto dos valores dos componentes da forma."
   ]
  },
  {
   "cell_type": "code",
   "execution_count": 14,
   "id": "c40a117c",
   "metadata": {},
   "outputs": [
    {
     "data": {
      "text/plain": [
       "tensor(12)"
      ]
     },
     "execution_count": 14,
     "metadata": {},
     "output_type": "execute_result"
    }
   ],
   "source": [
    "torch.tensor(t.shape).prod()"
   ]
  },
  {
   "cell_type": "code",
   "execution_count": 15,
   "id": "4a3772a3",
   "metadata": {},
   "outputs": [
    {
     "data": {
      "text/plain": [
       "tensor(2)"
      ]
     },
     "execution_count": 15,
     "metadata": {},
     "output_type": "execute_result"
    }
   ],
   "source": [
    "torch.tensor(x.shape).prod()"
   ]
  },
  {
   "cell_type": "code",
   "execution_count": 16,
   "id": "c9d34795",
   "metadata": {},
   "outputs": [],
   "source": [
    "# Retornando um elemento de um tensor\n",
    "z = torch.tensor([[1., 2.],[5., 3.],[0., 4.]])"
   ]
  },
  {
   "cell_type": "code",
   "execution_count": 17,
   "id": "3de9d1fa",
   "metadata": {},
   "outputs": [
    {
     "name": "stdout",
     "output_type": "stream",
     "text": [
      "tensor([[1., 2.],\n",
      "        [5., 3.],\n",
      "        [0., 4.]])\n"
     ]
    }
   ],
   "source": [
    "print(z)"
   ]
  },
  {
   "cell_type": "code",
   "execution_count": 18,
   "id": "044aaac4",
   "metadata": {},
   "outputs": [
    {
     "name": "stdout",
     "output_type": "stream",
     "text": [
      "torch.Size([3, 2])\n"
     ]
    }
   ],
   "source": [
    "# Shape\n",
    "print(z.shape)"
   ]
  },
  {
   "cell_type": "code",
   "execution_count": 19,
   "id": "73f4d305",
   "metadata": {},
   "outputs": [
    {
     "name": "stdout",
     "output_type": "stream",
     "text": [
      "tensor(2.)\n"
     ]
    }
   ],
   "source": [
    "# Retornamos a primeira linha (índice 0) e segunda coluna (índice 1)\n",
    "# O retorno é no formato de tensor\n",
    "print(z[0][1])"
   ]
  },
  {
   "cell_type": "code",
   "execution_count": 20,
   "id": "eb2da3cd",
   "metadata": {},
   "outputs": [
    {
     "name": "stdout",
     "output_type": "stream",
     "text": [
      "2.0\n"
     ]
    }
   ],
   "source": [
    "# Retornamos a primeira linha (índice 0) e segunda coluna (índice 1)\n",
    "# O retorno é no formato de escalar (apenas o valor)\n",
    "print(z[0][1].item())"
   ]
  },
  {
   "cell_type": "markdown",
   "id": "5dd420d6",
   "metadata": {},
   "source": [
    "Quando criamos tensores com valores randômicos, passamos apenas o número de dimensões."
   ]
  },
  {
   "cell_type": "code",
   "execution_count": 21,
   "id": "212d0482",
   "metadata": {},
   "outputs": [],
   "source": [
    "input1 = torch.randn([1, 4, 4, 2])"
   ]
  },
  {
   "cell_type": "code",
   "execution_count": 22,
   "id": "657b970a",
   "metadata": {},
   "outputs": [],
   "source": [
    "input2 = torch.randn(1, 4, 4, 2)"
   ]
  },
  {
   "cell_type": "code",
   "execution_count": 23,
   "id": "ce34d25c",
   "metadata": {},
   "outputs": [
    {
     "data": {
      "text/plain": [
       "torch.Size([1, 4, 4, 2])"
      ]
     },
     "execution_count": 23,
     "metadata": {},
     "output_type": "execute_result"
    }
   ],
   "source": [
    "input1.shape"
   ]
  },
  {
   "cell_type": "code",
   "execution_count": 24,
   "id": "47293cff",
   "metadata": {},
   "outputs": [
    {
     "data": {
      "text/plain": [
       "torch.Size([1, 4, 4, 2])"
      ]
     },
     "execution_count": 24,
     "metadata": {},
     "output_type": "execute_result"
    }
   ],
   "source": [
    "input2.shape"
   ]
  },
  {
   "cell_type": "code",
   "execution_count": 25,
   "id": "75fdfa64",
   "metadata": {},
   "outputs": [
    {
     "data": {
      "text/plain": [
       "4"
      ]
     },
     "execution_count": 25,
     "metadata": {},
     "output_type": "execute_result"
    }
   ],
   "source": [
    "len(input1.shape)"
   ]
  },
  {
   "cell_type": "code",
   "execution_count": 26,
   "id": "67231c19",
   "metadata": {},
   "outputs": [
    {
     "data": {
      "text/plain": [
       "4"
      ]
     },
     "execution_count": 26,
     "metadata": {},
     "output_type": "execute_result"
    }
   ],
   "source": [
    "len(input2.shape)"
   ]
  },
  {
   "cell_type": "code",
   "execution_count": 27,
   "id": "f04b8f24",
   "metadata": {},
   "outputs": [
    {
     "data": {
      "text/plain": [
       "tensor([[[[ 0.8259, -0.5186],\n",
       "          [ 1.4683,  1.6329],\n",
       "          [ 1.2938, -1.7812],\n",
       "          [-0.0789,  1.5122]],\n",
       "\n",
       "         [[-0.1368,  2.8292],\n",
       "          [ 1.3660,  0.9234],\n",
       "          [-0.7386, -0.7180],\n",
       "          [-0.3759,  0.4626]],\n",
       "\n",
       "         [[-2.8337,  1.3199],\n",
       "          [ 0.3442, -0.6770],\n",
       "          [-0.4121,  1.1318],\n",
       "          [ 0.5614, -0.0442]],\n",
       "\n",
       "         [[ 0.9019, -1.2744],\n",
       "          [-0.4223,  0.2164],\n",
       "          [ 0.7885, -0.7510],\n",
       "          [-1.3161,  0.8978]]]])"
      ]
     },
     "execution_count": 27,
     "metadata": {},
     "output_type": "execute_result"
    }
   ],
   "source": [
    "input1"
   ]
  },
  {
   "cell_type": "code",
   "execution_count": 28,
   "id": "5c2e9093",
   "metadata": {},
   "outputs": [
    {
     "data": {
      "text/plain": [
       "tensor([[[[ 0.4838, -0.7483],\n",
       "          [-0.0258, -0.1103],\n",
       "          [ 0.2823,  0.5470],\n",
       "          [ 0.9310,  0.5183]],\n",
       "\n",
       "         [[-0.7319,  0.1272],\n",
       "          [ 0.3985,  1.0795],\n",
       "          [ 0.4118, -1.1784],\n",
       "          [-0.2131, -0.8233]],\n",
       "\n",
       "         [[-0.4816, -0.2923],\n",
       "          [ 1.5299,  0.9563],\n",
       "          [-1.0153,  1.8411],\n",
       "          [ 2.1885,  0.5432]],\n",
       "\n",
       "         [[-0.4339, -0.5947],\n",
       "          [-0.1347, -1.1745],\n",
       "          [ 0.6118,  2.3263],\n",
       "          [-1.1057,  0.2825]]]])"
      ]
     },
     "execution_count": 28,
     "metadata": {},
     "output_type": "execute_result"
    }
   ],
   "source": [
    "input2"
   ]
  },
  {
   "cell_type": "markdown",
   "id": "eb36ff2d",
   "metadata": {},
   "source": [
    "Considere tensores como o número de listas que uma dimensão contém. Por exemplo, um tensor (1, 4, 4, 2) terá:\n",
    "\n",
    "1 lista contendo 4 elementos de 4 elementos de 2 elementos.\n",
    "\n",
    "- A primeira dimensão pode conter 1 elemento.\n",
    "- A segunda dimensão pode conter 4 elementos.\n",
    "- A terceira dimensão pode conter 4 elementos.\n",
    "- A quarta dimensão pode conter 2 elementos.\n",
    "\n",
    "![title](imagens/tensor.jpg)"
   ]
  },
  {
   "cell_type": "markdown",
   "id": "3a194317",
   "metadata": {},
   "source": [
    "### Array NumPy x Tensor PyTorch"
   ]
  },
  {
   "cell_type": "code",
   "execution_count": 30,
   "id": "ebe4007b",
   "metadata": {},
   "outputs": [],
   "source": [
    "# Cria um array Numpy\n",
    "a = np.array(1)\n",
    "\n",
    "# Cria um tensor Pytorch\n",
    "b = torch.tensor(1)"
   ]
  },
  {
   "cell_type": "code",
   "execution_count": 31,
   "id": "f0e75b52",
   "metadata": {},
   "outputs": [
    {
     "data": {
      "text/plain": [
       "numpy.ndarray"
      ]
     },
     "execution_count": 31,
     "metadata": {},
     "output_type": "execute_result"
    }
   ],
   "source": [
    "# Tipo\n",
    "type(a)"
   ]
  },
  {
   "cell_type": "code",
   "execution_count": 32,
   "id": "90f15620",
   "metadata": {},
   "outputs": [
    {
     "data": {
      "text/plain": [
       "torch.Tensor"
      ]
     },
     "execution_count": 32,
     "metadata": {},
     "output_type": "execute_result"
    }
   ],
   "source": [
    "# Tipo\n",
    "type(b)"
   ]
  },
  {
   "cell_type": "code",
   "execution_count": 33,
   "id": "0873e8ef",
   "metadata": {},
   "outputs": [
    {
     "name": "stdout",
     "output_type": "stream",
     "text": [
      "1\n",
      "tensor(1)\n"
     ]
    }
   ],
   "source": [
    "# Print\n",
    "print(a)\n",
    "print(b)"
   ]
  },
  {
   "cell_type": "markdown",
   "id": "7cb688a5",
   "metadata": {},
   "source": [
    "### Operações com Tensores"
   ]
  },
  {
   "cell_type": "code",
   "execution_count": 34,
   "id": "a15b48e9",
   "metadata": {},
   "outputs": [
    {
     "name": "stdout",
     "output_type": "stream",
     "text": [
      "tensor(12) tensor(4)\n"
     ]
    }
   ],
   "source": [
    "# Criamos 2 tensores\n",
    "t1 = torch.tensor(12)\n",
    "t2 = torch.tensor(4)\n",
    "print(t1, t2)"
   ]
  },
  {
   "cell_type": "code",
   "execution_count": 35,
   "id": "01c8fac9",
   "metadata": {},
   "outputs": [
    {
     "name": "stdout",
     "output_type": "stream",
     "text": [
      "tensor(16)\n"
     ]
    }
   ],
   "source": [
    "# Soma\n",
    "print(t1 + t2)"
   ]
  },
  {
   "cell_type": "code",
   "execution_count": 36,
   "id": "afa5cca4",
   "metadata": {},
   "outputs": [
    {
     "name": "stdout",
     "output_type": "stream",
     "text": [
      "tensor(8)\n"
     ]
    }
   ],
   "source": [
    "# Subtração\n",
    "print(t1 - t2)"
   ]
  },
  {
   "cell_type": "code",
   "execution_count": 37,
   "id": "13430c3b",
   "metadata": {},
   "outputs": [
    {
     "name": "stdout",
     "output_type": "stream",
     "text": [
      "tensor(48)\n"
     ]
    }
   ],
   "source": [
    "# Multiplicação\n",
    "print(t1 * t2)"
   ]
  },
  {
   "cell_type": "code",
   "execution_count": 38,
   "id": "1881e921",
   "metadata": {},
   "outputs": [
    {
     "name": "stdout",
     "output_type": "stream",
     "text": [
      "tensor(3)\n"
     ]
    }
   ],
   "source": [
    "# Divisão\n",
    "print(t1 // t2)"
   ]
  },
  {
   "cell_type": "markdown",
   "id": "7f2596c7",
   "metadata": {},
   "source": [
    "### Operações com Matrizes"
   ]
  },
  {
   "cell_type": "code",
   "execution_count": 39,
   "id": "9e100e01",
   "metadata": {},
   "outputs": [
    {
     "data": {
      "text/plain": [
       "tensor([[ 0.5246, -0.1071,  0.2006],\n",
       "        [-0.5555, -0.7647,  1.5490],\n",
       "        [ 0.7557,  0.0233,  1.8675]])"
      ]
     },
     "execution_count": 39,
     "metadata": {},
     "output_type": "execute_result"
    }
   ],
   "source": [
    "# Matriz (tensor rank 2) de números randômicos\n",
    "t_rank2 = torch.randn(3,3)\n",
    "t_rank2"
   ]
  },
  {
   "cell_type": "code",
   "execution_count": 40,
   "id": "b5d31f4f",
   "metadata": {},
   "outputs": [
    {
     "data": {
      "text/plain": [
       "tensor([[[-0.6687, -2.1345, -0.5153],\n",
       "         [-0.4742,  2.1330,  0.6282],\n",
       "         [ 0.9580, -1.0495,  0.8953]],\n",
       "\n",
       "        [[-1.2580,  1.1130, -0.7614],\n",
       "         [-0.0096,  1.2637,  0.8363],\n",
       "         [ 0.7021,  0.7282,  0.5437]],\n",
       "\n",
       "        [[-0.1475, -0.8254, -0.3041],\n",
       "         [ 0.5387, -0.0351, -0.5156],\n",
       "         [ 0.3511,  1.0576, -1.1227]]])"
      ]
     },
     "execution_count": 40,
     "metadata": {},
     "output_type": "execute_result"
    }
   ],
   "source": [
    "# Tensor rank 3 de números randômicos\n",
    "t_rank3 = torch.randn(3,3,3)\n",
    "t_rank3"
   ]
  },
  {
   "cell_type": "code",
   "execution_count": 41,
   "id": "6d29e8e6",
   "metadata": {},
   "outputs": [
    {
     "data": {
      "text/plain": [
       "tensor([[[[-0.9012, -0.2282,  1.7065],\n",
       "          [ 2.1980,  0.4195,  1.4686],\n",
       "          [-0.5718, -1.5533,  1.3702]],\n",
       "\n",
       "         [[-1.5979, -1.5735,  1.0815],\n",
       "          [-2.1049, -0.5004,  0.8802],\n",
       "          [-1.0288, -0.9225,  0.0303]],\n",
       "\n",
       "         [[ 0.5465, -0.1070,  0.7865],\n",
       "          [ 0.9740,  0.5657,  0.6927],\n",
       "          [ 0.6773, -1.0669,  2.4298]]],\n",
       "\n",
       "\n",
       "        [[[-1.5055, -0.2081, -0.7561],\n",
       "          [-0.5329, -0.2368,  0.0613],\n",
       "          [-0.5411, -0.6503,  0.2440]],\n",
       "\n",
       "         [[ 0.3183,  0.4239, -1.2515],\n",
       "          [-2.1404,  0.0612, -0.6317],\n",
       "          [-0.0149, -0.6180,  0.1537]],\n",
       "\n",
       "         [[-1.0666,  2.2464,  0.3960],\n",
       "          [ 1.0286,  1.1076,  0.5371],\n",
       "          [ 0.3571,  0.5797, -0.0173]]],\n",
       "\n",
       "\n",
       "        [[[ 0.2405, -0.1189, -0.1002],\n",
       "          [ 2.2361, -0.1677,  0.1867],\n",
       "          [ 1.6390,  1.6452,  0.5926]],\n",
       "\n",
       "         [[ 1.0724,  1.4377,  0.3528],\n",
       "          [-0.8261,  0.5468,  0.4588],\n",
       "          [ 0.0410, -0.0642, -0.7058]],\n",
       "\n",
       "         [[ 0.4666,  0.6041,  0.0141],\n",
       "          [ 1.3494, -1.2674,  0.7203],\n",
       "          [-1.0036, -1.3249,  0.0206]]]])"
      ]
     },
     "execution_count": 41,
     "metadata": {},
     "output_type": "execute_result"
    }
   ],
   "source": [
    "# Tensor rank 4 de números randômicos\n",
    "t_rank4 = torch.randn(3,3,3,3)\n",
    "t_rank4"
   ]
  },
  {
   "cell_type": "code",
   "execution_count": 42,
   "id": "eb3432a1",
   "metadata": {},
   "outputs": [],
   "source": [
    "# Multiplicação entre 2 tensores\n",
    "A = torch.tensor([[1, 2, 3], [4, 5, 6], [7, 8, 9]])\n",
    "B = torch.tensor([[9, 8, 7], [6, 5, 4], [3, 2, 1]])"
   ]
  },
  {
   "cell_type": "code",
   "execution_count": 43,
   "id": "56ecd0fb",
   "metadata": {},
   "outputs": [
    {
     "data": {
      "text/plain": [
       "torch.Size([3, 3])"
      ]
     },
     "execution_count": 43,
     "metadata": {},
     "output_type": "execute_result"
    }
   ],
   "source": [
    "A.shape"
   ]
  },
  {
   "cell_type": "code",
   "execution_count": 44,
   "id": "672b5594",
   "metadata": {},
   "outputs": [
    {
     "data": {
      "text/plain": [
       "torch.Size([3, 3])"
      ]
     },
     "execution_count": 44,
     "metadata": {},
     "output_type": "execute_result"
    }
   ],
   "source": [
    "B.shape"
   ]
  },
  {
   "cell_type": "code",
   "execution_count": 45,
   "id": "99e2db6d",
   "metadata": {},
   "outputs": [
    {
     "data": {
      "text/plain": [
       "2"
      ]
     },
     "execution_count": 45,
     "metadata": {},
     "output_type": "execute_result"
    }
   ],
   "source": [
    "len(A.shape)"
   ]
  },
  {
   "cell_type": "code",
   "execution_count": 46,
   "id": "3342bef4",
   "metadata": {},
   "outputs": [
    {
     "data": {
      "text/plain": [
       "2"
      ]
     },
     "execution_count": 46,
     "metadata": {},
     "output_type": "execute_result"
    }
   ],
   "source": [
    "len(B.shape)"
   ]
  },
  {
   "cell_type": "code",
   "execution_count": 47,
   "id": "996eafc3",
   "metadata": {},
   "outputs": [
    {
     "data": {
      "text/plain": [
       "tensor([[1, 2, 3],\n",
       "        [4, 5, 6],\n",
       "        [7, 8, 9]])"
      ]
     },
     "execution_count": 47,
     "metadata": {},
     "output_type": "execute_result"
    }
   ],
   "source": [
    "A"
   ]
  },
  {
   "cell_type": "code",
   "execution_count": 48,
   "id": "7c9b3f47",
   "metadata": {},
   "outputs": [
    {
     "data": {
      "text/plain": [
       "tensor([[9, 8, 7],\n",
       "        [6, 5, 4],\n",
       "        [3, 2, 1]])"
      ]
     },
     "execution_count": 48,
     "metadata": {},
     "output_type": "execute_result"
    }
   ],
   "source": [
    "B"
   ]
  },
  {
   "cell_type": "code",
   "execution_count": 49,
   "id": "811cf3ab",
   "metadata": {},
   "outputs": [],
   "source": [
    "resultado1 = A * B"
   ]
  },
  {
   "cell_type": "code",
   "execution_count": 50,
   "id": "1793720a",
   "metadata": {},
   "outputs": [
    {
     "name": "stdout",
     "output_type": "stream",
     "text": [
      "tensor([[ 9, 16, 21],\n",
      "        [24, 25, 24],\n",
      "        [21, 16,  9]])\n"
     ]
    }
   ],
   "source": [
    "# Resultado\n",
    "print(resultado1)"
   ]
  },
  {
   "cell_type": "code",
   "execution_count": 51,
   "id": "d4c5d753",
   "metadata": {},
   "outputs": [],
   "source": [
    "resultado2 = torch.matmul(A, B)"
   ]
  },
  {
   "cell_type": "code",
   "execution_count": 52,
   "id": "cecf4e65",
   "metadata": {},
   "outputs": [
    {
     "name": "stdout",
     "output_type": "stream",
     "text": [
      "tensor([[ 30,  24,  18],\n",
      "        [ 84,  69,  54],\n",
      "        [138, 114,  90]])\n"
     ]
    }
   ],
   "source": [
    "# Resultado\n",
    "print(resultado2)"
   ]
  },
  {
   "cell_type": "code",
   "execution_count": 53,
   "id": "a3f23509",
   "metadata": {},
   "outputs": [],
   "source": [
    "resultado3 = torch.sum(A * B)"
   ]
  },
  {
   "cell_type": "code",
   "execution_count": 54,
   "id": "9cb72349",
   "metadata": {},
   "outputs": [
    {
     "name": "stdout",
     "output_type": "stream",
     "text": [
      "tensor(165)\n"
     ]
    }
   ],
   "source": [
    "# Resultado\n",
    "print(resultado3)"
   ]
  },
  {
   "cell_type": "markdown",
   "id": "19311820",
   "metadata": {},
   "source": [
    "![title](imagens/mat-mul.gif)"
   ]
  },
  {
   "cell_type": "markdown",
   "id": "126d8e6e",
   "metadata": {},
   "source": [
    "Para multiplicação de matrizes, fazemos assim em PyTorch:"
   ]
  },
  {
   "cell_type": "code",
   "execution_count": 56,
   "id": "32b03084",
   "metadata": {},
   "outputs": [],
   "source": [
    "AB1 = A.mm(B)\n",
    "# ou\n",
    "AB2 = torch.mm(A, B)\n",
    "# ou\n",
    "AB3 = torch.matmul(A, B)\n",
    "# Ou assim (Python 3.5+)\n",
    "AB4 = A @ B "
   ]
  },
  {
   "cell_type": "code",
   "execution_count": 57,
   "id": "8aabe2be",
   "metadata": {},
   "outputs": [
    {
     "name": "stdout",
     "output_type": "stream",
     "text": [
      "tensor([[ 30,  24,  18],\n",
      "        [ 84,  69,  54],\n",
      "        [138, 114,  90]])\n",
      "tensor([[ 30,  24,  18],\n",
      "        [ 84,  69,  54],\n",
      "        [138, 114,  90]])\n",
      "tensor([[ 30,  24,  18],\n",
      "        [ 84,  69,  54],\n",
      "        [138, 114,  90]])\n",
      "tensor([[ 30,  24,  18],\n",
      "        [ 84,  69,  54],\n",
      "        [138, 114,  90]])\n"
     ]
    }
   ],
   "source": [
    "print(AB1)\n",
    "print(AB2)\n",
    "print(AB3)\n",
    "print(AB4)"
   ]
  },
  {
   "cell_type": "code",
   "execution_count": 58,
   "id": "7aa55988",
   "metadata": {},
   "outputs": [
    {
     "data": {
      "text/plain": [
       "tensor([[ 30,  24,  18],\n",
       "        [ 84,  69,  54],\n",
       "        [138, 114,  90]])"
      ]
     },
     "execution_count": 58,
     "metadata": {},
     "output_type": "execute_result"
    }
   ],
   "source": [
    "# Multiplicação de matrizes\n",
    "A @ B"
   ]
  },
  {
   "cell_type": "markdown",
   "id": "e9c5fd1d",
   "metadata": {},
   "source": [
    "Essa notação realiza multiplicação element-wise:"
   ]
  },
  {
   "cell_type": "code",
   "execution_count": 59,
   "id": "1737ac7f",
   "metadata": {},
   "outputs": [
    {
     "data": {
      "text/plain": [
       "tensor([[ 9, 16, 21],\n",
       "        [24, 25, 24],\n",
       "        [21, 16,  9]])"
      ]
     },
     "execution_count": 59,
     "metadata": {},
     "output_type": "execute_result"
    }
   ],
   "source": [
    "# Operação element-wise\n",
    "A * B"
   ]
  },
  {
   "cell_type": "code",
   "execution_count": 60,
   "id": "12a15da1",
   "metadata": {},
   "outputs": [],
   "source": [
    "# Usando seed para iniciar 2 tensores com valores randômicos\n",
    "torch.manual_seed(42)\n",
    "a = torch.randn(3,3)\n",
    "b = torch.randn(3,3)"
   ]
  },
  {
   "cell_type": "code",
   "execution_count": 61,
   "id": "6232b25f",
   "metadata": {},
   "outputs": [
    {
     "name": "stdout",
     "output_type": "stream",
     "text": [
      "tensor([[ 0.6040,  0.6637,  1.0438],\n",
      "        [ 1.3406, -2.8127, -1.1753],\n",
      "        [ 3.1662,  0.6841,  1.2788]])\n"
     ]
    }
   ],
   "source": [
    "# Adição de matrizes\n",
    "print(torch.add(a, b))"
   ]
  },
  {
   "cell_type": "code",
   "execution_count": 62,
   "id": "6164f0ea",
   "metadata": {},
   "outputs": [
    {
     "name": "stdout",
     "output_type": "stream",
     "text": [
      "tensor([[ 0.0693, -0.4061, -0.5749],\n",
      "        [-0.8800,  0.5669,  0.8026],\n",
      "        [ 1.2502, -1.9601, -0.3555]])\n"
     ]
    }
   ],
   "source": [
    "# Subtração de matrizes\n",
    "print(torch.sub(a, b))"
   ]
  },
  {
   "cell_type": "code",
   "execution_count": 63,
   "id": "627396c4",
   "metadata": {},
   "outputs": [
    {
     "name": "stdout",
     "output_type": "stream",
     "text": [
      "tensor([[ 0.4576,  0.2724,  0.3367],\n",
      "        [-1.3636,  1.7743,  1.1446],\n",
      "        [ 0.3243,  2.8696,  2.7954]])\n"
     ]
    }
   ],
   "source": [
    "# Multiplicação de matrizes\n",
    "print(torch.mm(a, b))"
   ]
  },
  {
   "cell_type": "code",
   "execution_count": 64,
   "id": "9faaa94b",
   "metadata": {},
   "outputs": [
    {
     "name": "stdout",
     "output_type": "stream",
     "text": [
      "tensor([[ 1.2594,  0.2408,  0.2897],\n",
      "        [ 0.2075,  0.6645,  0.1884],\n",
      "        [ 2.3051, -0.4826,  0.5649]])\n"
     ]
    }
   ],
   "source": [
    "# Divisão de matrizes\n",
    "print(torch.div(a, b))"
   ]
  },
  {
   "cell_type": "code",
   "execution_count": 65,
   "id": "923eb0e9",
   "metadata": {},
   "outputs": [
    {
     "name": "stdout",
     "output_type": "stream",
     "text": [
      "tensor([[ 0.3367,  0.1288,  0.2345],\n",
      "        [ 0.2303, -1.1229, -0.1863],\n",
      "        [ 2.2082, -0.6380,  0.4617]]) \n",
      "\n"
     ]
    },
    {
     "data": {
      "text/plain": [
       "tensor([[ 0.3367,  0.2303,  2.2082],\n",
       "        [ 0.1288, -1.1229, -0.6380],\n",
       "        [ 0.2345, -0.1863,  0.4617]])"
      ]
     },
     "execution_count": 65,
     "metadata": {},
     "output_type": "execute_result"
    }
   ],
   "source": [
    "# Matriz Original\n",
    "print(a, '\\n')\n",
    "\n",
    "# Matriz Transposta\n",
    "torch.t(a)"
   ]
  }
 ],
 "metadata": {
  "kernelspec": {
   "display_name": "Python 3 (ipykernel)",
   "language": "python",
   "name": "python3"
  },
  "language_info": {
   "codemirror_mode": {
    "name": "ipython",
    "version": 3
   },
   "file_extension": ".py",
   "mimetype": "text/x-python",
   "name": "python",
   "nbconvert_exporter": "python",
   "pygments_lexer": "ipython3",
   "version": "3.9.13"
  }
 },
 "nbformat": 4,
 "nbformat_minor": 5
}
