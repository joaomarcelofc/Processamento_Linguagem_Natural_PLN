{
  "nbformat": 4,
  "nbformat_minor": 0,
  "metadata": {
    "colab": {
      "provenance": []
    },
    "kernelspec": {
      "name": "python3",
      "display_name": "Python 3"
    },
    "language_info": {
      "name": "python"
    }
  },
  "cells": [
    {
      "cell_type": "markdown",
      "source": [
        "# Boas Práticas para Processamento de Linguagem Natural"
      ],
      "metadata": {
        "id": "vPHdwYM1A45l"
      }
    },
    {
      "cell_type": "code",
      "source": [
        "# Versão da linguagem Python utilizada neste notebook\n",
        "from platform import python_version\n",
        "print(f'Versão da Linguagem Python Usada Neste Jupyter Notebook: {python_version()}')"
      ],
      "metadata": {
        "colab": {
          "base_uri": "https://localhost:8080/"
        },
        "id": "6RrvMSgMBJfC",
        "outputId": "19c291aa-0629-4deb-bf03-f5fe2ef95c4c"
      },
      "execution_count": 82,
      "outputs": [
        {
          "output_type": "stream",
          "name": "stdout",
          "text": [
            "Versão da Linguagem Python Usada Neste Jupyter Notebook: 3.10.12\n"
          ]
        }
      ]
    },
    {
      "cell_type": "markdown",
      "source": [
        "## Boas Práticas"
      ],
      "metadata": {
        "id": "qMUbA6_2Ddcc"
      }
    },
    {
      "cell_type": "markdown",
      "source": [
        "## Use Listas, Dicionários e Sets"
      ],
      "metadata": {
        "id": "43_1uOxGDftg"
      }
    },
    {
      "cell_type": "markdown",
      "source": [
        "Listas, conjuntos (sets) e dicionários são estruturas de dados otimizadas para processamento de texto e formam o núcleo de armazenamento e processamento de dados da linguagem Python."
      ],
      "metadata": {
        "id": "gyKun9hbDkSr"
      }
    },
    {
      "cell_type": "markdown",
      "source": [
        "### Listas\n",
        "\n",
        "Listas são objetos ordenados em Python."
      ],
      "metadata": {
        "id": "icwzpg-lDmSD"
      }
    },
    {
      "cell_type": "code",
      "source": [
        "# Listas\n",
        "animais = ['cavalo', 'cachorro', 'gato', 'zebra']"
      ],
      "metadata": {
        "id": "jdJPO0omBJh4"
      },
      "execution_count": 83,
      "outputs": []
    },
    {
      "cell_type": "code",
      "source": [
        "# Tipo do objeto\n",
        "type(animais)"
      ],
      "metadata": {
        "colab": {
          "base_uri": "https://localhost:8080/"
        },
        "id": "WPioER7dBJkz",
        "outputId": "83d73253-b59e-4697-e27e-5f6a5959a292"
      },
      "execution_count": 84,
      "outputs": [
        {
          "output_type": "execute_result",
          "data": {
            "text/plain": [
              "list"
            ]
          },
          "metadata": {},
          "execution_count": 84
        }
      ]
    },
    {
      "cell_type": "code",
      "source": [
        "# Lista de strings\n",
        "animais"
      ],
      "metadata": {
        "colab": {
          "base_uri": "https://localhost:8080/"
        },
        "id": "zGPg205QBJom",
        "outputId": "2d797717-2700-4d3e-c450-2277ff61580f"
      },
      "execution_count": 85,
      "outputs": [
        {
          "output_type": "execute_result",
          "data": {
            "text/plain": [
              "['cavalo', 'cachorro', 'gato', 'zebra']"
            ]
          },
          "metadata": {},
          "execution_count": 85
        }
      ]
    },
    {
      "cell_type": "code",
      "source": [
        "# Acesso ao elemento pelo índice\n",
        "animais[2]"
      ],
      "metadata": {
        "colab": {
          "base_uri": "https://localhost:8080/",
          "height": 36
        },
        "id": "TwYRNzmpBJq2",
        "outputId": "a5b93899-5118-47fb-ba21-4f44623dbda8"
      },
      "execution_count": 86,
      "outputs": [
        {
          "output_type": "execute_result",
          "data": {
            "text/plain": [
              "'gato'"
            ],
            "application/vnd.google.colaboratory.intrinsic+json": {
              "type": "string"
            }
          },
          "metadata": {},
          "execution_count": 86
        }
      ]
    },
    {
      "cell_type": "code",
      "source": [
        "# Listas podem ter elementos de diferentes tipos\n",
        "cursos_dsa = ['Matemática', 'Deep Learning', 1678, 9872, True]"
      ],
      "metadata": {
        "id": "5ASXvH0yBJts"
      },
      "execution_count": 87,
      "outputs": []
    },
    {
      "cell_type": "code",
      "source": [
        "# Lista de elementos com diferentes tipos\n",
        "cursos_dsa"
      ],
      "metadata": {
        "id": "SJaRpJanBJwu",
        "colab": {
          "base_uri": "https://localhost:8080/"
        },
        "outputId": "ef37f00a-43da-4e83-e542-fe3a9e86eb69"
      },
      "execution_count": 88,
      "outputs": [
        {
          "output_type": "execute_result",
          "data": {
            "text/plain": [
              "['Matemática', 'Deep Learning', 1678, 9872, True]"
            ]
          },
          "metadata": {},
          "execution_count": 88
        }
      ]
    },
    {
      "cell_type": "code",
      "source": [
        "cursos_dsa[3]"
      ],
      "metadata": {
        "id": "J54uTCpkBJzk",
        "colab": {
          "base_uri": "https://localhost:8080/"
        },
        "outputId": "79ac9033-1bbc-4551-c95e-5e62c9117b23"
      },
      "execution_count": 89,
      "outputs": [
        {
          "output_type": "execute_result",
          "data": {
            "text/plain": [
              "9872"
            ]
          },
          "metadata": {},
          "execution_count": 89
        }
      ]
    },
    {
      "cell_type": "markdown",
      "source": [
        "### Dicionários\n",
        "\n",
        "Dicionários são estruturas de dados que armazenam chave e valor"
      ],
      "metadata": {
        "id": "7MRRu9Oe4guk"
      }
    },
    {
      "cell_type": "code",
      "source": [
        "dict1 = {'Nome': 'Bob', 'Idade': 39, 'Curso': 'Formação Cientista de Dados DSA'}"
      ],
      "metadata": {
        "id": "BvVT95e0BJ2a"
      },
      "execution_count": 90,
      "outputs": []
    },
    {
      "cell_type": "code",
      "source": [
        "# Tipo do objeto\n",
        "type(dict1)"
      ],
      "metadata": {
        "colab": {
          "base_uri": "https://localhost:8080/"
        },
        "id": "XzAipN-y4euT",
        "outputId": "01ed4718-718f-4ca9-f374-0d8dc269d883"
      },
      "execution_count": 91,
      "outputs": [
        {
          "output_type": "execute_result",
          "data": {
            "text/plain": [
              "dict"
            ]
          },
          "metadata": {},
          "execution_count": 91
        }
      ]
    },
    {
      "cell_type": "code",
      "source": [
        "# Dicionário\n",
        "dict1"
      ],
      "metadata": {
        "colab": {
          "base_uri": "https://localhost:8080/"
        },
        "id": "--a8tDDm4exP",
        "outputId": "c3e4f3e0-3c24-456f-c078-4e1ddeafc791"
      },
      "execution_count": 92,
      "outputs": [
        {
          "output_type": "execute_result",
          "data": {
            "text/plain": [
              "{'Nome': 'Bob', 'Idade': 39, 'Curso': 'Formação Cientista de Dados DSA'}"
            ]
          },
          "metadata": {},
          "execution_count": 92
        }
      ]
    },
    {
      "cell_type": "code",
      "source": [
        "# Retorna todos os itens\n",
        "dict1.items()"
      ],
      "metadata": {
        "colab": {
          "base_uri": "https://localhost:8080/"
        },
        "id": "o3GO7Jbo4e0g",
        "outputId": "6da7db95-d227-4712-feac-8d778630514d"
      },
      "execution_count": 93,
      "outputs": [
        {
          "output_type": "execute_result",
          "data": {
            "text/plain": [
              "dict_items([('Nome', 'Bob'), ('Idade', 39), ('Curso', 'Formação Cientista de Dados DSA')])"
            ]
          },
          "metadata": {},
          "execution_count": 93
        }
      ]
    },
    {
      "cell_type": "code",
      "source": [
        "# Retorna apenas as chaves\n",
        "dict1.values()"
      ],
      "metadata": {
        "colab": {
          "base_uri": "https://localhost:8080/"
        },
        "id": "wcG9CmuN4e34",
        "outputId": "7e4efd60-095f-4c17-ced4-f93a3b48c6cc"
      },
      "execution_count": 94,
      "outputs": [
        {
          "output_type": "execute_result",
          "data": {
            "text/plain": [
              "dict_values(['Bob', 39, 'Formação Cientista de Dados DSA'])"
            ]
          },
          "metadata": {},
          "execution_count": 94
        }
      ]
    },
    {
      "cell_type": "markdown",
      "source": [
        "### Sets\n",
        "\n",
        "Sets são listas não ordenadas que podem ser modificadas."
      ],
      "metadata": {
        "id": "FHdQ9GE-5VhZ"
      }
    },
    {
      "cell_type": "code",
      "source": [
        "conjunto1 = {1, 2, 3}\n",
        "print(conjunto1)"
      ],
      "metadata": {
        "colab": {
          "base_uri": "https://localhost:8080/"
        },
        "id": "ZDaYiNPl4e69",
        "outputId": "fa690e7b-7dae-4cde-beb8-63466a44139b"
      },
      "execution_count": 95,
      "outputs": [
        {
          "output_type": "stream",
          "name": "stdout",
          "text": [
            "{1, 2, 3}\n"
          ]
        }
      ]
    },
    {
      "cell_type": "code",
      "source": [
        "# Tipo do objeto\n",
        "type(conjunto1)"
      ],
      "metadata": {
        "colab": {
          "base_uri": "https://localhost:8080/"
        },
        "id": "Be3KVyGt4e-N",
        "outputId": "14accbce-4549-4e24-f7b9-b1a4e28511e2"
      },
      "execution_count": 96,
      "outputs": [
        {
          "output_type": "execute_result",
          "data": {
            "text/plain": [
              "set"
            ]
          },
          "metadata": {},
          "execution_count": 96
        }
      ]
    },
    {
      "cell_type": "code",
      "source": [
        "# Podemos usar a função set() para criar um objeto desse tipo. Set armazena apenas valores únicos.\n",
        "conjunto2 = set([1,2,3,2])\n",
        "print(conjunto2)"
      ],
      "metadata": {
        "colab": {
          "base_uri": "https://localhost:8080/"
        },
        "id": "5iHP6xCp4fBO",
        "outputId": "950b8904-232d-4541-badf-e3b9c9b23d40"
      },
      "execution_count": 97,
      "outputs": [
        {
          "output_type": "stream",
          "name": "stdout",
          "text": [
            "{1, 2, 3}\n"
          ]
        }
      ]
    },
    {
      "cell_type": "code",
      "source": [
        "# Objetos set armazenam dados de qualquer tipo\n",
        "conjunto3 = {1.0, \"Bob\", (1, 2, 3)}\n",
        "print(conjunto3)"
      ],
      "metadata": {
        "colab": {
          "base_uri": "https://localhost:8080/"
        },
        "id": "0qwyP3I15gIQ",
        "outputId": "2940cde7-fab1-4b2b-c9d5-f47a3bad0bb5"
      },
      "execution_count": 98,
      "outputs": [
        {
          "output_type": "stream",
          "name": "stdout",
          "text": [
            "{'Bob', 1.0, (1, 2, 3)}\n"
          ]
        }
      ]
    },
    {
      "cell_type": "code",
      "source": [
        "# Podemos converter outros objetos para set\n",
        "\n",
        "# Set vazio\n",
        "print(set())\n",
        "\n",
        "# String\n",
        "print(set('Python'))\n",
        "\n",
        "# Tupla\n",
        "print(set(('a', 'e', 'i', 'o', 'u')))\n",
        "\n",
        "# Lista\n",
        "print(set(['a', 'e', 'i', 'o', 'u']))\n",
        "\n",
        "# Range\n",
        "print(set(range(5)))"
      ],
      "metadata": {
        "colab": {
          "base_uri": "https://localhost:8080/"
        },
        "id": "nQFYvlXu5gKm",
        "outputId": "0ef3ad87-6ecf-432f-ff2e-ce1fd1dbd457"
      },
      "execution_count": 99,
      "outputs": [
        {
          "output_type": "stream",
          "name": "stdout",
          "text": [
            "set()\n",
            "{'o', 'h', 'P', 'y', 't', 'n'}\n",
            "{'u', 'o', 'a', 'i', 'e'}\n",
            "{'u', 'o', 'a', 'i', 'e'}\n",
            "{0, 1, 2, 3, 4}\n"
          ]
        }
      ]
    },
    {
      "cell_type": "code",
      "source": [
        "# E podemos fazer união ou interseção entre sets\n",
        "A = set(('a', 'e', 'i', 'o', 'u'))\n",
        "B = set(['a', 2, 'z', 'o', (9,8)])\n",
        "\n",
        "print('União:', A.union(B))\n",
        "print('Interseção:', A.intersection(B))"
      ],
      "metadata": {
        "colab": {
          "base_uri": "https://localhost:8080/"
        },
        "id": "jnWS1R1y5gNq",
        "outputId": "3dcc2a7c-438d-42f7-b8f5-a668563edaad"
      },
      "execution_count": 100,
      "outputs": [
        {
          "output_type": "stream",
          "name": "stdout",
          "text": [
            "União: {'u', 'o', 2, 'a', 'z', (9, 8), 'i', 'e'}\n",
            "Interseção: {'o', 'a'}\n"
          ]
        }
      ]
    },
    {
      "cell_type": "markdown",
      "source": [
        "## Unicode e Encoding"
      ],
      "metadata": {
        "id": "EutVRPHU6Esn"
      }
    },
    {
      "cell_type": "markdown",
      "source": [
        "Fundamentalmente, os computadores lidam com números. Gravam letras e outros caracteres na memória designando um número para cada um deles. Antes de o Unicode ser inventado, havia centenas de sistemas diferentes de codificação . Nenhum destes sistemas de codificação, no entanto, poderia conter caracteres suficientes: por exemplo, a União Européia por si só requer vários sistemas de codificação diferentes para cobrir todas a línguas. Mesmo para uma única língua como o inglês não havia sistema de codificação adequado para todas as letras, pontuação e símbolos técnicos em uso corrente.\n",
        "\n",
        "Estes sistemas de codificação são também conflitantes entre si. Em outras palavras, dois codificadores podem usar o mesmo número para dois caracteres diferentes ou usar números diferentes para o mesmo caracter. Qualquer computador em particular (especialmente os servidores) precisam suportar muitos codificadores diferentes; ainda assim toda as vezes que se passam dados entre codificadores ou plataformas diferentes, estes dados sempre correm o risco de serem corrompidos."
      ],
      "metadata": {
        "id": "Q955yN8p6Hoj"
      }
    },
    {
      "cell_type": "markdown",
      "source": [
        "O Unicode fornece um único número para cada caracter, não importa a plataforma, não importa o programa, não importa a língua. O Padrão Unicode tem sido adotado por líderes do setor de informática tais como a Apple, HP, IBM, Microsoft, Oracle, SAP, Sun, Sybase, Unisys e muitos outros. O Unicode é necessário para padrões modernos tais como o XML, Java, ECMAScript (JavaScript), LDAP, CORBA 3.0, WML, etc. e é a maneira oficial de implementar o ISO/IEC 10646. É suportado por muitos sistemas operacionais, todos os browsers modernos e muitos outros produtos. O surgimento do Padrão Unicode Standard e a disponibilidade de instrumentos para suportá-lo está entre as tendências recentes mais significativas das tecnológicas mundiais de software.\n",
        "\n",
        "Textos Unicode podem ser codificados de várias formas diferentes — internamente, .NET e Java usam UTF-16; Python 3 escolhe entre ASCII, UTF-8, UTF-16 e UTF-32 dependendo dos caracteres que estão no texto que você está processando.\n",
        "\n",
        "Ainda assim, UTF-8 é a codificação mais popular para arquivos texto (como arquivos-fonte Python)."
      ],
      "metadata": {
        "id": "oZlg_5kh6KoQ"
      }
    },
    {
      "cell_type": "markdown",
      "source": [
        "**E Unicode?**\n",
        "\n",
        "O Unicode não é uma codificação (encoding) por si mesmo. Em vez disso, o Unicode é implementado por diferentes codificações de caracteres, o Unicode contém praticamente todos os caracteres que você pode imaginar, incluindo também outros não \"imprimíveis\".\n",
        "\n",
        "Unicode é um padrão de codificação abstrato, não uma codificação. É aí que o UTF-8 e outros esquemas de codificação entram em cena. O padrão Unicode (um mapa de caracteres) define várias codificações diferentes de seu conjunto de caracteres único.\n",
        "\n",
        "UTF-8 e seus primos menos utilizados, UTF-16 e UTF-32, são formatos de codificação para representar caracteres Unicode como dados binários de um ou mais bytes por caractere.\n",
        "\n",
        "- O código-fonte do Python 3 é assumido como UTF-8 por padrão.\n",
        "\n",
        "- Todo o texto (str) é Unicode por padrão. O texto Unicode codificado é representado como dados binários (bytes). O tipo str pode conter qualquer caractere Unicode literal, como \"Δv / Δt\", todos os quais serão armazenados como Unicode."
      ],
      "metadata": {
        "id": "N5eUGyTM6NNQ"
      }
    },
    {
      "cell_type": "code",
      "source": [
        "a = 'maça'\n",
        "print(a)"
      ],
      "metadata": {
        "colab": {
          "base_uri": "https://localhost:8080/"
        },
        "id": "0aTOJknU5gQh",
        "outputId": "daba7825-52cd-430b-c9f5-e15703d9211f"
      },
      "execution_count": 101,
      "outputs": [
        {
          "output_type": "stream",
          "name": "stdout",
          "text": [
            "maça\n"
          ]
        }
      ]
    },
    {
      "cell_type": "code",
      "source": [
        "import sys"
      ],
      "metadata": {
        "id": "e1frF1zP5gTY"
      },
      "execution_count": 102,
      "outputs": []
    },
    {
      "cell_type": "code",
      "source": [
        "sys.getdefaultencoding()"
      ],
      "metadata": {
        "colab": {
          "base_uri": "https://localhost:8080/",
          "height": 36
        },
        "id": "S5__OlXo5gWW",
        "outputId": "e031aa1a-e6de-498b-c4ed-11d8170246d6"
      },
      "execution_count": 103,
      "outputs": [
        {
          "output_type": "execute_result",
          "data": {
            "text/plain": [
              "'utf-8'"
            ],
            "application/vnd.google.colaboratory.intrinsic+json": {
              "type": "string"
            }
          },
          "metadata": {},
          "execution_count": 103
        }
      ]
    },
    {
      "cell_type": "code",
      "source": [
        "import locale"
      ],
      "metadata": {
        "id": "cjTsuSHk6qZp"
      },
      "execution_count": 104,
      "outputs": []
    },
    {
      "cell_type": "code",
      "source": [
        "locale.getpreferredencoding()  # Em geral no Windows o padrão é 'cp1252'"
      ],
      "metadata": {
        "colab": {
          "base_uri": "https://localhost:8080/",
          "height": 36
        },
        "id": "_pkIlzGK6r0S",
        "outputId": "c009c84a-6026-4dd0-c964-2b6926f8db5f"
      },
      "execution_count": 105,
      "outputs": [
        {
          "output_type": "execute_result",
          "data": {
            "text/plain": [
              "'UTF-8'"
            ],
            "application/vnd.google.colaboratory.intrinsic+json": {
              "type": "string"
            }
          },
          "metadata": {},
          "execution_count": 105
        }
      ]
    },
    {
      "cell_type": "code",
      "source": [
        "#import os\n",
        "#os.environ[\"PYTHONIOENCODING\"] = \"\""
      ],
      "metadata": {
        "id": "F14AJPs16tMc"
      },
      "execution_count": 106,
      "outputs": []
    },
    {
      "cell_type": "code",
      "source": [
        "#!env | grep PYTHONIOENCODING"
      ],
      "metadata": {
        "id": "sZzCjcAz5gZV"
      },
      "execution_count": 107,
      "outputs": []
    },
    {
      "cell_type": "code",
      "source": [
        "a = 'maça'\n",
        "print (len(a))"
      ],
      "metadata": {
        "colab": {
          "base_uri": "https://localhost:8080/"
        },
        "id": "GvGc2BCV6wOO",
        "outputId": "213e6b69-16be-43af-fe2c-24bb1b691a4e"
      },
      "execution_count": 108,
      "outputs": [
        {
          "output_type": "stream",
          "name": "stdout",
          "text": [
            "4\n"
          ]
        }
      ]
    },
    {
      "cell_type": "code",
      "source": [
        "print(a)"
      ],
      "metadata": {
        "colab": {
          "base_uri": "https://localhost:8080/"
        },
        "id": "_lC0GNAr6xWt",
        "outputId": "bfdae39a-ecec-449f-a7fa-85ea299db6c6"
      },
      "execution_count": 109,
      "outputs": [
        {
          "output_type": "stream",
          "name": "stdout",
          "text": [
            "maça\n"
          ]
        }
      ]
    },
    {
      "cell_type": "code",
      "source": [
        "b = u'maça'\n",
        "print (len(b))"
      ],
      "metadata": {
        "colab": {
          "base_uri": "https://localhost:8080/"
        },
        "id": "mvi7Lirm6ySW",
        "outputId": "7e82ae65-e6bd-4d36-d209-cb42dd762a06"
      },
      "execution_count": 110,
      "outputs": [
        {
          "output_type": "stream",
          "name": "stdout",
          "text": [
            "4\n"
          ]
        }
      ]
    },
    {
      "cell_type": "code",
      "source": [
        "print(b)"
      ],
      "metadata": {
        "colab": {
          "base_uri": "https://localhost:8080/"
        },
        "id": "DHhbiBu46zkn",
        "outputId": "091e4099-a78f-4c7d-af4a-e0e887fe9680"
      },
      "execution_count": 111,
      "outputs": [
        {
          "output_type": "stream",
          "name": "stdout",
          "text": [
            "maça\n"
          ]
        }
      ]
    },
    {
      "cell_type": "code",
      "source": [
        "a == b"
      ],
      "metadata": {
        "colab": {
          "base_uri": "https://localhost:8080/"
        },
        "id": "fn8LjAzT61BG",
        "outputId": "cb6b793f-6263-4f8b-ab5c-7bfa670b2213"
      },
      "execution_count": 112,
      "outputs": [
        {
          "output_type": "execute_result",
          "data": {
            "text/plain": [
              "True"
            ]
          },
          "metadata": {},
          "execution_count": 112
        }
      ]
    },
    {
      "cell_type": "code",
      "source": [
        "type(a)"
      ],
      "metadata": {
        "colab": {
          "base_uri": "https://localhost:8080/"
        },
        "id": "xSkYWnqR62M9",
        "outputId": "6241afe8-f371-4c47-be5c-2d9946f47912"
      },
      "execution_count": 113,
      "outputs": [
        {
          "output_type": "execute_result",
          "data": {
            "text/plain": [
              "str"
            ]
          },
          "metadata": {},
          "execution_count": 113
        }
      ]
    },
    {
      "cell_type": "code",
      "source": [
        "type(b)"
      ],
      "metadata": {
        "colab": {
          "base_uri": "https://localhost:8080/"
        },
        "id": "ebEprGBA63kQ",
        "outputId": "8b7f1e73-6fb4-4fd7-c8af-739c63bdc377"
      },
      "execution_count": 114,
      "outputs": [
        {
          "output_type": "execute_result",
          "data": {
            "text/plain": [
              "str"
            ]
          },
          "metadata": {},
          "execution_count": 114
        }
      ]
    },
    {
      "cell_type": "code",
      "source": [
        "isinstance(a, str)"
      ],
      "metadata": {
        "colab": {
          "base_uri": "https://localhost:8080/"
        },
        "id": "Jn6APZct64ix",
        "outputId": "1aec0e7d-654e-4c17-d608-0cc827c06012"
      },
      "execution_count": 115,
      "outputs": [
        {
          "output_type": "execute_result",
          "data": {
            "text/plain": [
              "True"
            ]
          },
          "metadata": {},
          "execution_count": 115
        }
      ]
    },
    {
      "cell_type": "code",
      "source": [
        "isinstance(b, str)"
      ],
      "metadata": {
        "colab": {
          "base_uri": "https://localhost:8080/"
        },
        "id": "FJ2SeHPE651K",
        "outputId": "b63b3a75-fc02-4f4a-a8b1-b8a2a125a364"
      },
      "execution_count": 116,
      "outputs": [
        {
          "output_type": "execute_result",
          "data": {
            "text/plain": [
              "True"
            ]
          },
          "metadata": {},
          "execution_count": 116
        }
      ]
    },
    {
      "cell_type": "code",
      "source": [
        "\"Hello there!\".encode(\"ascii\")"
      ],
      "metadata": {
        "colab": {
          "base_uri": "https://localhost:8080/"
        },
        "id": "De3b5Fmz67IS",
        "outputId": "00ea7ee5-4251-4b48-8add-974a9995c80c"
      },
      "execution_count": 117,
      "outputs": [
        {
          "output_type": "execute_result",
          "data": {
            "text/plain": [
              "b'Hello there!'"
            ]
          },
          "metadata": {},
          "execution_count": 117
        }
      ]
    },
    {
      "cell_type": "code",
      "source": [
        "\"Hello there... ☃!\".encode(\"ascii\")"
      ],
      "metadata": {
        "colab": {
          "base_uri": "https://localhost:8080/",
          "height": 148
        },
        "id": "MjujJzfl68TQ",
        "outputId": "4d7b73bf-ba41-4050-d6a8-e4a770a34f5c"
      },
      "execution_count": 118,
      "outputs": [
        {
          "output_type": "error",
          "ename": "UnicodeEncodeError",
          "evalue": "'ascii' codec can't encode character '\\u2603' in position 15: ordinal not in range(128)",
          "traceback": [
            "\u001b[0;31m---------------------------------------------------------------------------\u001b[0m",
            "\u001b[0;31mUnicodeEncodeError\u001b[0m                        Traceback (most recent call last)",
            "\u001b[0;32m<ipython-input-118-1602aa75ea42>\u001b[0m in \u001b[0;36m<cell line: 1>\u001b[0;34m()\u001b[0m\n\u001b[0;32m----> 1\u001b[0;31m \u001b[0;34m\"Hello there... ☃!\"\u001b[0m\u001b[0;34m.\u001b[0m\u001b[0mencode\u001b[0m\u001b[0;34m(\u001b[0m\u001b[0;34m\"ascii\"\u001b[0m\u001b[0;34m)\u001b[0m\u001b[0;34m\u001b[0m\u001b[0;34m\u001b[0m\u001b[0m\n\u001b[0m",
            "\u001b[0;31mUnicodeEncodeError\u001b[0m: 'ascii' codec can't encode character '\\u2603' in position 15: ordinal not in range(128)"
          ]
        }
      ]
    },
    {
      "cell_type": "code",
      "source": [
        "a.decode('ascii')"
      ],
      "metadata": {
        "id": "S0sohtKT69mS"
      },
      "execution_count": null,
      "outputs": []
    },
    {
      "cell_type": "code",
      "source": [
        "b.decode('ascii')"
      ],
      "metadata": {
        "id": "M_L2FanA6_L-"
      },
      "execution_count": null,
      "outputs": []
    },
    {
      "cell_type": "code",
      "source": [
        "a = a.encode('ISO-8859-1')"
      ],
      "metadata": {
        "id": "Dge62lfC7BFR"
      },
      "execution_count": null,
      "outputs": []
    },
    {
      "cell_type": "code",
      "source": [
        "print(a)"
      ],
      "metadata": {
        "id": "SVF1NSQA7CYE"
      },
      "execution_count": null,
      "outputs": []
    },
    {
      "cell_type": "markdown",
      "source": [
        "Descobrir a codificação de texto é tarefa do desenvolvedor, não da linguagem Python! É o seu trabalho!"
      ],
      "metadata": {
        "id": "YdBVdapk7FeB"
      }
    },
    {
      "cell_type": "code",
      "source": [
        "!pip install -q chardet"
      ],
      "metadata": {
        "id": "hUITZ8IJ7F8z"
      },
      "execution_count": null,
      "outputs": []
    },
    {
      "cell_type": "code",
      "source": [
        "# Algumas bibliotecas podem ajudar, mas lembre-se: encontrar a codificação correta é uma ciência heurística!\n",
        "import chardet"
      ],
      "metadata": {
        "id": "P8dvgNhf7HRX"
      },
      "execution_count": null,
      "outputs": []
    },
    {
      "cell_type": "code",
      "source": [
        "chardet.detect(a)"
      ],
      "metadata": {
        "id": "CYfjQrUB7IeY"
      },
      "execution_count": null,
      "outputs": []
    },
    {
      "cell_type": "code",
      "source": [
        "a.decode('ISO-8859-1')"
      ],
      "metadata": {
        "id": "2fn--YTz7KQi"
      },
      "execution_count": null,
      "outputs": []
    },
    {
      "cell_type": "code",
      "source": [
        "print (a.decode(chardet.detect(a)['encoding']))"
      ],
      "metadata": {
        "id": "Ii7gWQbW7Lep"
      },
      "execution_count": null,
      "outputs": []
    },
    {
      "cell_type": "code",
      "source": [
        "nome = 'José'\n",
        "print(nome)"
      ],
      "metadata": {
        "id": "6G6_hSu97MnJ"
      },
      "execution_count": null,
      "outputs": []
    },
    {
      "cell_type": "code",
      "source": [
        "chardet.detect(nome)"
      ],
      "metadata": {
        "id": "jNaVN_Y97N4C"
      },
      "execution_count": null,
      "outputs": []
    },
    {
      "cell_type": "code",
      "source": [
        "nome_enc = nome.encode('ISO-8859-1')"
      ],
      "metadata": {
        "id": "jgYS8rtY7PDA"
      },
      "execution_count": null,
      "outputs": []
    },
    {
      "cell_type": "code",
      "source": [
        "print(nome_enc)"
      ],
      "metadata": {
        "id": "U7u4gal-7S8o"
      },
      "execution_count": null,
      "outputs": []
    },
    {
      "cell_type": "code",
      "source": [
        "nome_dec = nome_enc.decode('ISO-8859-1')"
      ],
      "metadata": {
        "id": "Q9M_LdRp7ULG"
      },
      "execution_count": null,
      "outputs": []
    },
    {
      "cell_type": "code",
      "source": [
        "print(nome_dec)"
      ],
      "metadata": {
        "id": "ncfExmq97VPH"
      },
      "execution_count": null,
      "outputs": []
    },
    {
      "cell_type": "code",
      "source": [
        "len(nome_dec.encode(\"utf-8\"))"
      ],
      "metadata": {
        "id": "fa7rc0qU7WOB"
      },
      "execution_count": null,
      "outputs": []
    },
    {
      "cell_type": "code",
      "source": [
        "len(nome_dec.encode(\"utf-16\"))"
      ],
      "metadata": {
        "id": "Vx0fdUE87X1Z"
      },
      "execution_count": null,
      "outputs": []
    },
    {
      "cell_type": "markdown",
      "source": [
        "## List Comprehension\n",
        "\n",
        "List Comprehensions são muito otimizadas. Use-as para filtrar dados!"
      ],
      "metadata": {
        "id": "djQdcGB27a_J"
      }
    },
    {
      "cell_type": "markdown",
      "source": [
        "Por exemplo, vamos utilizar o list comprehensions para calcular os quadrados dos números de 1 a 10."
      ],
      "metadata": {
        "id": "bjEIgErg7fq-"
      }
    },
    {
      "cell_type": "code",
      "source": [
        "# Sem list comprehensions\n",
        "\n",
        "# Lista vazia para armazenar resultados\n",
        "quadrados_sem_lc = []\n",
        "\n",
        "# Loop pelo range de números\n",
        "for i in range(1,11):\n",
        "  quadrados_sem_lc.append(i * i)\n",
        "\n",
        "print(quadrados_sem_lc)"
      ],
      "metadata": {
        "id": "5VE9du9Q7ZNR"
      },
      "execution_count": null,
      "outputs": []
    },
    {
      "cell_type": "code",
      "source": [
        "# Com list comprehension\n",
        "quadrados_com_lc = [i * i for i in range(1,11)]\n",
        "print(quadrados_com_lc)"
      ],
      "metadata": {
        "id": "8JpaVWv07Dbn"
      },
      "execution_count": null,
      "outputs": []
    },
    {
      "cell_type": "markdown",
      "source": [
        "Agora vamos imprimir somente as vogais da frase abaixo, utilizando list comprehension."
      ],
      "metadata": {
        "id": "2KbUeUZ_9NKv"
      }
    },
    {
      "cell_type": "code",
      "source": [
        "# Frase\n",
        "frase = 'o meteoro veio em direção à terra'"
      ],
      "metadata": {
        "id": "EkWdslz_62Q1"
      },
      "execution_count": null,
      "outputs": []
    },
    {
      "cell_type": "code",
      "source": [
        "# List comprehension\n",
        "vogais = [i for i in frase if i in 'aeiou']\n",
        "print(vogais)"
      ],
      "metadata": {
        "id": "VB8FTxDW62T5"
      },
      "execution_count": null,
      "outputs": []
    },
    {
      "cell_type": "markdown",
      "source": [
        "Imprima o quadrado de cada número de 1 a 10 e imprima o número."
      ],
      "metadata": {
        "id": "3gzsviwZ918a"
      }
    },
    {
      "cell_type": "code",
      "source": [
        "# Para este caso usamos o Dict Comprehension\n",
        "quadrados_dc = {i: i*i for i in range(1,11)}\n",
        "print(quadrados_dc)"
      ],
      "metadata": {
        "id": "dZ3jXp3U62XI"
      },
      "execution_count": null,
      "outputs": []
    },
    {
      "cell_type": "markdown",
      "source": [
        "Agora transforme a matriz abaixo em um vetor usando List Comprehension."
      ],
      "metadata": {
        "id": "aEVDY2Lk_PIf"
      }
    },
    {
      "cell_type": "code",
      "source": [
        "# Matriz\n",
        "matrix = [[0, 0, 0], [1, 1, 1], [2, 2, 2]]\n",
        "print(matrix)"
      ],
      "metadata": {
        "id": "CcaiygJo62aG"
      },
      "execution_count": null,
      "outputs": []
    },
    {
      "cell_type": "code",
      "source": [
        "# Vetor\n",
        "vector = [num for linha in matrix for num in linha]\n",
        "print(vector)"
      ],
      "metadata": {
        "id": "dKJXqO4k5gcC"
      },
      "execution_count": null,
      "outputs": []
    },
    {
      "cell_type": "code",
      "source": [
        "# Cria uma matriz 3x4 com List Comprehension aninhadas\n",
        "matrix = [[item for item in range(4)] for item in range(3)]\n",
        "print(matrix)"
      ],
      "metadata": {
        "id": "otcapmN55gel"
      },
      "execution_count": null,
      "outputs": []
    },
    {
      "cell_type": "markdown",
      "source": [
        "Abaixo vamos concatenar a palavra código com cada item da lista abaixo"
      ],
      "metadata": {
        "id": "xlNUnmkW_z8x"
      }
    },
    {
      "cell_type": "code",
      "source": [
        "# Lista\n",
        "cols = ['_A','_B','_C']\n",
        "palavra = 'codigo'"
      ],
      "metadata": {
        "id": "-yp9K8rvBL2E"
      },
      "execution_count": null,
      "outputs": []
    },
    {
      "cell_type": "code",
      "source": [
        "# Concatenação\n",
        "codigos = [palavra + x for x in cols]\n",
        "print(codigos)"
      ],
      "metadata": {
        "id": "sOoJJI22_iBI"
      },
      "execution_count": null,
      "outputs": []
    },
    {
      "cell_type": "markdown",
      "source": [
        "## Outras Estruturas de Dados e Pacotes"
      ],
      "metadata": {
        "id": "QR6J6FFNACu0"
      }
    },
    {
      "cell_type": "code",
      "source": [
        "!pip install -q spacy"
      ],
      "metadata": {
        "id": "DqwuHQBf_iDl"
      },
      "execution_count": null,
      "outputs": []
    },
    {
      "cell_type": "code",
      "source": [
        "import spacy"
      ],
      "metadata": {
        "id": "gYA-ZJ40_iGU"
      },
      "execution_count": null,
      "outputs": []
    },
    {
      "cell_type": "code",
      "source": [
        "# https://spacy.io/usage/models\n",
        "!python -m spacy download pt_core_news_sm"
      ],
      "metadata": {
        "id": "UPfgYxYp_iJE"
      },
      "execution_count": null,
      "outputs": []
    },
    {
      "cell_type": "code",
      "source": [
        "nlp = spacy.load('pt_core_news_sm')"
      ],
      "metadata": {
        "id": "ADT5_UEa_iLx"
      },
      "execution_count": null,
      "outputs": []
    },
    {
      "cell_type": "code",
      "source": [
        "texto = ('Estudando Processamento de Linguagem Natural no Curso de Machine Learning da DSA')"
      ],
      "metadata": {
        "id": "5xEXxN1o_iOp"
      },
      "execution_count": null,
      "outputs": []
    },
    {
      "cell_type": "code",
      "source": [
        "tokens = nlp(texto)"
      ],
      "metadata": {
        "id": "osuGMcxW_iRW"
      },
      "execution_count": null,
      "outputs": []
    },
    {
      "cell_type": "code",
      "source": [
        "print ([token.text for token in tokens])"
      ],
      "metadata": {
        "colab": {
          "base_uri": "https://localhost:8080/"
        },
        "id": "tMbiLXUj_iUd",
        "outputId": "c8b66519-641c-468d-e446-60b3cd090a88"
      },
      "execution_count": 119,
      "outputs": [
        {
          "output_type": "stream",
          "name": "stdout",
          "text": [
            "['Estudando', 'Processamento', 'de', 'Linguagem', 'Natural', 'no', 'Curso', 'de', 'Machine', 'Learning', 'da', 'DSA']\n"
          ]
        }
      ]
    },
    {
      "cell_type": "code",
      "source": [
        "frases = ('O futebol atrai pessoas de todas as idades'\n",
        "          ' Eu visitei a Europa '\n",
        "          ' Prefiro uma bela macarronada '\n",
        "          ' Acho que vou gostar de PLN ')"
      ],
      "metadata": {
        "id": "QXpXzP3r_iWx"
      },
      "execution_count": 120,
      "outputs": []
    },
    {
      "cell_type": "code",
      "source": [
        "about_doc = nlp(frases)"
      ],
      "metadata": {
        "id": "Ri3j662sBy8m"
      },
      "execution_count": 121,
      "outputs": []
    },
    {
      "cell_type": "code",
      "source": [
        "sentences = list(about_doc.sents)"
      ],
      "metadata": {
        "id": "4_91A6ycB0nT"
      },
      "execution_count": 122,
      "outputs": []
    },
    {
      "cell_type": "code",
      "source": [
        "len(sentences)"
      ],
      "metadata": {
        "colab": {
          "base_uri": "https://localhost:8080/"
        },
        "id": "EeOft8xrB2q7",
        "outputId": "1ed26a75-b6ea-4a85-e62f-cd4344ffaabc"
      },
      "execution_count": 123,
      "outputs": [
        {
          "output_type": "execute_result",
          "data": {
            "text/plain": [
              "3"
            ]
          },
          "metadata": {},
          "execution_count": 123
        }
      ]
    },
    {
      "cell_type": "code",
      "source": [
        "for sentence in sentences:\n",
        "    print (sentence)"
      ],
      "metadata": {
        "colab": {
          "base_uri": "https://localhost:8080/"
        },
        "id": "MUftu9aFB4LT",
        "outputId": "afba3397-18e3-4452-e046-aecee328daf0"
      },
      "execution_count": 124,
      "outputs": [
        {
          "output_type": "stream",
          "name": "stdout",
          "text": [
            "O futebol atrai pessoas de todas as idades\n",
            "Eu visitei a Europa  Prefiro uma bela macarronada  \n",
            "Acho que vou gostar de PLN\n"
          ]
        }
      ]
    },
    {
      "cell_type": "code",
      "source": [
        "for token in about_doc:\n",
        "    print (token, token.idx)"
      ],
      "metadata": {
        "colab": {
          "base_uri": "https://localhost:8080/"
        },
        "id": "txq2__zvB6ub",
        "outputId": "32b5ef28-197f-4f0a-c7ab-c0c042f2fe1b"
      },
      "execution_count": 125,
      "outputs": [
        {
          "output_type": "stream",
          "name": "stdout",
          "text": [
            "O 0\n",
            "futebol 2\n",
            "atrai 10\n",
            "pessoas 16\n",
            "de 24\n",
            "todas 27\n",
            "as 33\n",
            "idades 36\n",
            "Eu 43\n",
            "visitei 46\n",
            "a 54\n",
            "Europa 56\n",
            "  63\n",
            "Prefiro 64\n",
            "uma 72\n",
            "bela 76\n",
            "macarronada 81\n",
            "  93\n",
            "Acho 94\n",
            "que 99\n",
            "vou 103\n",
            "gostar 107\n",
            "de 114\n",
            "PLN 117\n"
          ]
        }
      ]
    },
    {
      "cell_type": "markdown",
      "source": [
        "## Expressões Regulares"
      ],
      "metadata": {
        "id": "wYtF7m3uCEeG"
      }
    },
    {
      "cell_type": "markdown",
      "source": [
        "https://docs.python.org/3/howto/regex.html\n",
        "\n",
        "https://www.w3schools.com/python/python_regex.asp"
      ],
      "metadata": {
        "id": "LSAwRiKU0jAP"
      }
    },
    {
      "cell_type": "code",
      "source": [
        "import re"
      ],
      "metadata": {
        "id": "lqlTT9__By_Z"
      },
      "execution_count": 126,
      "outputs": []
    },
    {
      "cell_type": "markdown",
      "source": [
        "Python oferece duas operações primitivas diferentes baseadas em expressões regulares: match verifica uma correspondência apenas no início da sequência de caracteres, enquanto search verifica uma correspondência em qualquer parte da sequência de caracteres. Temos ainda diversas outras funções de busca de padrões."
      ],
      "metadata": {
        "id": "Bbc4JyTQ0mlB"
      }
    },
    {
      "cell_type": "code",
      "source": [
        "# Verificamos se a frase começa com expressão alfa-numérica\n",
        "\n",
        "# \"^\": Esta expressão corresponde ao início de uma sequência\n",
        "# \"w+\": Esta expressão corresponde ao caractere alfanumérico na string\n",
        "\n",
        "texto1 = \"AC56 é o código mais comum na lista de voos.\"\n",
        "reg1 = re.findall(\"^\\w+\", texto1)\n",
        "print(reg1)"
      ],
      "metadata": {
        "id": "eB1VcIigBzB8",
        "colab": {
          "base_uri": "https://localhost:8080/"
        },
        "outputId": "7b1205da-9a59-498b-d765-add6394b6f3e"
      },
      "execution_count": 127,
      "outputs": [
        {
          "output_type": "stream",
          "name": "stdout",
          "text": [
            "['AC56']\n"
          ]
        }
      ]
    },
    {
      "cell_type": "code",
      "source": [
        "# Usamos \\s para fazer a divisão de uma frase por espaços\n",
        "print((re.split('\\s', texto1)))"
      ],
      "metadata": {
        "id": "aLswsRxpBzEm",
        "colab": {
          "base_uri": "https://localhost:8080/"
        },
        "outputId": "1c7c80b0-bc4a-4aa3-cb83-ae1773d996f5"
      },
      "execution_count": 128,
      "outputs": [
        {
          "output_type": "stream",
          "name": "stdout",
          "text": [
            "['AC56', 'é', 'o', 'código', 'mais', 'comum', 'na', 'lista', 'de', 'voos.']\n"
          ]
        }
      ]
    },
    {
      "cell_type": "code",
      "source": [
        "# Lista de voos internacionais\n",
        "voos = [\"AC56 Londres\", \"JK56 Paris\", \"AC921 Filadélfia\"]\n",
        "\n",
        "# Buscamos os códigos dos voos\n",
        "for voo in voos:\n",
        "\n",
        "    resultado = re.match(\"(^\\w+)\", voo)\n",
        "\n",
        "    if resultado is not None:\n",
        "        print(resultado.groups())"
      ],
      "metadata": {
        "id": "3YBZAU_8BzHT",
        "colab": {
          "base_uri": "https://localhost:8080/"
        },
        "outputId": "98d2de1e-b957-4d30-f6c0-215d9dbb1353"
      },
      "execution_count": 129,
      "outputs": [
        {
          "output_type": "stream",
          "name": "stdout",
          "text": [
            "('AC56',)\n",
            "('JK56',)\n",
            "('AC921',)\n"
          ]
        }
      ]
    },
    {
      "cell_type": "code",
      "source": [
        "# Busca de padrões\n",
        "\n",
        "# Lista de padrões\n",
        "palavras = ['Inverno', 'Londres', 'Barcelona']\n",
        "\n",
        "# Texto\n",
        "texto = \"AC56 é o código mais comum na lista de voos de Londres para Paris no Inverno.\"\n",
        "\n",
        "# Busca\n",
        "for palavra in palavras:\n",
        "  print(f'\\nPesquisando por {palavra} no texto ->', end = ' ')\n",
        "  if re.search(palavra, texto):\n",
        "    print('Encontrei o padrão no texto')\n",
        "else:\n",
        "  print(f'Desculpe, não encontrei {palavra} no texto')"
      ],
      "metadata": {
        "id": "Hxu_BQYNBzKB",
        "colab": {
          "base_uri": "https://localhost:8080/"
        },
        "outputId": "ffa0caae-97f8-44b7-8591-6c323d91a110"
      },
      "execution_count": 131,
      "outputs": [
        {
          "output_type": "stream",
          "name": "stdout",
          "text": [
            "\n",
            "Pesquisando por Inverno no texto -> Encontrei o padrão no texto\n",
            "\n",
            "Pesquisando por Londres no texto -> Encontrei o padrão no texto\n",
            "\n",
            "Pesquisando por Barcelona no texto -> Desculpe, não encontrei Barcelona no texto\n"
          ]
        }
      ]
    },
    {
      "cell_type": "code",
      "source": [
        "# Busca pelo padrão de e-mail no texto\n",
        "\n",
        "# Lista de e-mails\n",
        "lista = 'bob@gmail.com, maria@hotmail.com, zicoyahoomail.com'\n",
        "\n",
        "# E-mails encontrados\n",
        "emails = re.findall('[\\w\\.-]+@[\\w\\.-]+', lista)\n",
        "\n",
        "# Retorna os e-mails encontrados\n",
        "for email in emails:\n",
        "    print('\\nE-mail encontrado na lista: ', email)"
      ],
      "metadata": {
        "id": "ZZAbZHkjBzMz",
        "colab": {
          "base_uri": "https://localhost:8080/"
        },
        "outputId": "eed40fb7-27bf-4a4c-e970-30c388080a89"
      },
      "execution_count": 132,
      "outputs": [
        {
          "output_type": "stream",
          "name": "stdout",
          "text": [
            "\n",
            "E-mail encontrado na lista:  bob@gmail.com\n",
            "\n",
            "E-mail encontrado na lista:  maria@hotmail.com\n"
          ]
        }
      ]
    }
  ]
}